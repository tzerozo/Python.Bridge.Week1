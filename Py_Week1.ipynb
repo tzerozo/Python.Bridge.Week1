{
  "nbformat": 4,
  "nbformat_minor": 0,
  "metadata": {
    "colab": {
      "name": "Py.Week1.ipynb",
      "provenance": []
    },
    "kernelspec": {
      "name": "python3",
      "display_name": "Python 3"
    },
    "language_info": {
      "name": "python"
    }
  },
  "cells": [
    {
      "cell_type": "markdown",
      "source": [
        "Chapter 1.  Programming Challenge 1 page 22, Even-Odd Vending Machine.\n"
      ],
      "metadata": {
        "id": "EY0NYlNPVsod"
      }
    },
    {
      "cell_type": "code",
      "source": [
        "def EvenOdd(num):\n",
        "    print ('*** Please enter an integer number ***')\n",
        "    if num % 2 == 0:\n",
        "        print(\"even\")\n",
        "    else:\n",
        "        print(\"odd\")\n",
        "    for i in range(0, 20, 2):\n",
        "        print(num + i)\n",
        "\n",
        "\n",
        "if __name__ == '__main__':\n",
        "    EvenOdd(22)\n",
        "    EvenOdd(11)\n"
      ],
      "metadata": {
        "colab": {
          "base_uri": "https://localhost:8080/"
        },
        "id": "TgsvDaScVtg2",
        "outputId": "28ef03c6-ec31-49a0-85d8-cc104518d59c"
      },
      "execution_count": 1,
      "outputs": [
        {
          "output_type": "stream",
          "name": "stdout",
          "text": [
            "*** Please enter an integer number ***\n",
            "even\n",
            "22\n",
            "24\n",
            "26\n",
            "28\n",
            "30\n",
            "32\n",
            "34\n",
            "36\n",
            "38\n",
            "40\n",
            "*** Please enter an integer number ***\n",
            "odd\n",
            "11\n",
            "13\n",
            "15\n",
            "17\n",
            "19\n",
            "21\n",
            "23\n",
            "25\n",
            "27\n",
            "29\n"
          ]
        }
      ]
    },
    {
      "cell_type": "markdown",
      "source": [
        "Chapter 2.  Programming Challenge 2 page 55, Exploring a Quadratic Function Visually"
      ],
      "metadata": {
        "id": "ZCrZwTmgVvqp"
      }
    },
    {
      "cell_type": "code",
      "source": [
        "#Matplotlib: Had to re-study :(\n",
        "\n",
        "import matplotlib.pyplot as plt\n",
        "\n",
        "def drawing(x,y):\n",
        "  plt.plot(x,y)\n",
        "  plt.show()\n",
        "\n",
        "\n",
        "if __name__ == '__main__':\n",
        "  x_values = [-6,-3,-1,0,2,4,6,8,10,12]\n",
        "  y_values = []\n",
        "  for x in x_values:\n",
        "    y = x**2 + 2*x + 1\n",
        "    y_values.append(y)\n",
        "  drawing(x_values,y_values)"
      ],
      "metadata": {
        "colab": {
          "base_uri": "https://localhost:8080/",
          "height": 266
        },
        "id": "1ST9V7ZjVvzF",
        "outputId": "d4130269-6300-478f-a887-96f61c0e9d1c"
      },
      "execution_count": 10,
      "outputs": [
        {
          "output_type": "display_data",
          "data": {
            "text/plain": [
              "<Figure size 432x288 with 1 Axes>"
            ],
            "image/png": "[encoded data removed]"
          },
          "metadata": {
            "needs_background": "light"
          }
        }
      ]
    },
    {
      "cell_type": "markdown",
      "source": [
        "Chapter 3.  Programming Challenge 2 page 89, Statistics Calculator"
      ],
      "metadata": {
        "id": "S_Oc3djRVv-r"
      }
    },
    {
      "cell_type": "code",
      "source": [
        "# Will need to re study and practice Python again.\n",
        "# Most functions are from the textbook.\n",
        "# 'FileNotFoundError' because there is no actual 'mydata.txt' file.\n",
        "# format() method:Still making mistakes on using format method. \n",
        "\n",
        "from collections import Counter\n",
        "\n",
        "def read_data(filename):\n",
        "    numbers = []\n",
        "    with open(filename) as f:\n",
        "        for line in f:\n",
        "            numbers.append(float(line))\n",
        "\n",
        "    return numbers\n",
        "\n",
        "def calculate_mean(numbers):\n",
        "    s = sum(numbers)\n",
        "    N = len(numbers)\n",
        "    mean = s / N\n",
        "\n",
        "    return mean\n",
        "\n",
        "def calculate_median(numbers):\n",
        "\n",
        "    N = len(numbers)\n",
        "    numbers.sort()\n",
        "\n",
        "    # Fine the median\n",
        "    if N % 2 == 0:\n",
        "        # if N is even, convert to int and match position\n",
        "        m1 = int(N / 2) - 1\n",
        "        m2 = int((N / 2) + 1) - 1\n",
        "        median = (numbers[m1] + numbers[m2]) / 2\n",
        "    else:\n",
        "        # Convert to integer, match position\n",
        "        m = int((N + 1) / 2) - 1\n",
        "        median = numbers[m]\n",
        "\n",
        "    return median\n",
        "\n",
        "def calculate_mode(numbers):\n",
        "    c = Counter(numbers)\n",
        "    numbers_freq = c.most_common()\n",
        "\n",
        "    max_count = numbers_freq[0][1]\n",
        "\n",
        "    modes = []\n",
        "    for num in numbers_freq:\n",
        "        if num[1] == max_count:\n",
        "            modes.append(num[0])\n",
        "\n",
        "    return modes\n",
        "\n",
        "def find_differences(numbers):\n",
        "    # Find the mean\n",
        "    mean = calculate_mean(numbers)\n",
        "    # Find the differences from the mean\n",
        "    diff = []\n",
        "    for num in numbers:\n",
        "        diff.append(num - mean)\n",
        "\n",
        "    return diff\n",
        "\n",
        "\n",
        "def calculate_variance(numbers):\n",
        "    # Find the list of differences\n",
        "    diff = find_differences(numbers)\n",
        "    # Find the squared differences\n",
        "    squared_diff = []\n",
        "\n",
        "    for d in diff:\n",
        "        squared_diff.append(d**2)\n",
        "    # Find the variance\n",
        "    sum_squared_diff = sum(squared_diff)\n",
        "\n",
        "    variance = sum_squared_diff / len(numbers)\n",
        "\n",
        "    return variance\n",
        "\n",
        "if __name__ == '__main__':\n",
        "    data = read_data('mydata.txt')\n",
        "    mean = calculate_mean(data)\n",
        "    median = calculate_median(data)\n",
        "    mode = calculate_mode(data)\n",
        "    variance = calculate_variance(data)\n",
        "    stan_dev = variance**0.5\n",
        "    print('Mean: {0}, Median {1}, Mode {2}'.format(mean, median, mode))\n",
        "    print('Variance: {0}, Standard Deviation: {1}'.format(variance, stan_dev))"
      ],
      "metadata": {
        "colab": {
          "base_uri": "https://localhost:8080/",
          "height": 366
        },
        "id": "BfLX9yXOVwIU",
        "outputId": "2ad84814-77ef-4427-cd9c-a93a22dcd909"
      },
      "execution_count": 14,
      "outputs": [
        {
          "output_type": "error",
          "ename": "FileNotFoundError",
          "evalue": "ignored",
          "traceback": [
            "\u001b[0;31m---------------------------------------------------------------------------\u001b[0m",
            "\u001b[0;31mFileNotFoundError\u001b[0m                         Traceback (most recent call last)",
            "\u001b[0;32m<ipython-input-14-da6db0b83500>\u001b[0m in \u001b[0;36m<module>\u001b[0;34m()\u001b[0m\n\u001b[1;32m     76\u001b[0m \u001b[0;34m\u001b[0m\u001b[0m\n\u001b[1;32m     77\u001b[0m \u001b[0;32mif\u001b[0m \u001b[0m__name__\u001b[0m \u001b[0;34m==\u001b[0m \u001b[0;34m'__main__'\u001b[0m\u001b[0;34m:\u001b[0m\u001b[0;34m\u001b[0m\u001b[0;34m\u001b[0m\u001b[0m\n\u001b[0;32m---> 78\u001b[0;31m     \u001b[0mdata\u001b[0m \u001b[0;34m=\u001b[0m \u001b[0mread_data\u001b[0m\u001b[0;34m(\u001b[0m\u001b[0;34m'mydata.txt'\u001b[0m\u001b[0;34m)\u001b[0m\u001b[0;34m\u001b[0m\u001b[0;34m\u001b[0m\u001b[0m\n\u001b[0m\u001b[1;32m     79\u001b[0m     \u001b[0mmean\u001b[0m \u001b[0;34m=\u001b[0m \u001b[0mcalculate_mean\u001b[0m\u001b[0;34m(\u001b[0m\u001b[0mdata\u001b[0m\u001b[0;34m)\u001b[0m\u001b[0;34m\u001b[0m\u001b[0;34m\u001b[0m\u001b[0m\n\u001b[1;32m     80\u001b[0m     \u001b[0mmedian\u001b[0m \u001b[0;34m=\u001b[0m \u001b[0mcalculate_median\u001b[0m\u001b[0;34m(\u001b[0m\u001b[0mdata\u001b[0m\u001b[0;34m)\u001b[0m\u001b[0;34m\u001b[0m\u001b[0;34m\u001b[0m\u001b[0m\n",
            "\u001b[0;32m<ipython-input-14-da6db0b83500>\u001b[0m in \u001b[0;36mread_data\u001b[0;34m(filename)\u001b[0m\n\u001b[1;32m      5\u001b[0m \u001b[0;32mdef\u001b[0m \u001b[0mread_data\u001b[0m\u001b[0;34m(\u001b[0m\u001b[0mfilename\u001b[0m\u001b[0;34m)\u001b[0m\u001b[0;34m:\u001b[0m\u001b[0;34m\u001b[0m\u001b[0;34m\u001b[0m\u001b[0m\n\u001b[1;32m      6\u001b[0m     \u001b[0mnumbers\u001b[0m \u001b[0;34m=\u001b[0m \u001b[0;34m[\u001b[0m\u001b[0;34m]\u001b[0m\u001b[0;34m\u001b[0m\u001b[0;34m\u001b[0m\u001b[0m\n\u001b[0;32m----> 7\u001b[0;31m     \u001b[0;32mwith\u001b[0m \u001b[0mopen\u001b[0m\u001b[0;34m(\u001b[0m\u001b[0mfilename\u001b[0m\u001b[0;34m)\u001b[0m \u001b[0;32mas\u001b[0m \u001b[0mf\u001b[0m\u001b[0;34m:\u001b[0m\u001b[0;34m\u001b[0m\u001b[0;34m\u001b[0m\u001b[0m\n\u001b[0m\u001b[1;32m      8\u001b[0m         \u001b[0;32mfor\u001b[0m \u001b[0mline\u001b[0m \u001b[0;32min\u001b[0m \u001b[0mf\u001b[0m\u001b[0;34m:\u001b[0m\u001b[0;34m\u001b[0m\u001b[0;34m\u001b[0m\u001b[0m\n\u001b[1;32m      9\u001b[0m             \u001b[0mnumbers\u001b[0m\u001b[0;34m.\u001b[0m\u001b[0mappend\u001b[0m\u001b[0;34m(\u001b[0m\u001b[0mfloat\u001b[0m\u001b[0;34m(\u001b[0m\u001b[0mline\u001b[0m\u001b[0;34m)\u001b[0m\u001b[0;34m)\u001b[0m\u001b[0;34m\u001b[0m\u001b[0;34m\u001b[0m\u001b[0m\n",
            "\u001b[0;31mFileNotFoundError\u001b[0m: [Errno 2] No such file or directory: 'mydata.txt'"
          ]
        }
      ]
    },
    {
      "cell_type": "markdown",
      "source": [
        "Chapter 4.  Programming Challenge 4 page 117, Solving Single-Variable Inequalities"
      ],
      "metadata": {
        "id": "sRMrqprXVwSL"
      }
    },
    {
      "cell_type": "code",
      "source": [
        "# Need to study SymPy, SymPy Fucntions (inequality, polynomial, rational, etc)\n",
        "# For this challenge, create a function, isolve(), that will take\n",
        "# any inequality, solve it, and then return the solution.\n",
        "# https://docs.sympy.org/latest/modules/solvers/inequalities.html\n",
        "\n",
        "from sympy import Poly, Symbol, solve\n",
        "from sympy import solve_poly_inequality, solve_rational_inequalities, solve_univariate_inequality\n",
        "\n",
        "def isolve(inequality):\n",
        "  x = Symbol('x')    # x on the left is <python label, refers to symbol x> \n",
        "\n",
        "  expr = inequal_obj.lhs  #(p.117)lhs attribute: to extract the left side of inequality.\n",
        "  rel  = inequal_obj.rel_op #(p.117)rel attribute: extract relational operator from inequality object.\n",
        "\n",
        "# check which inequality-solving functions is the right one to use\n",
        "  if expr.is_polynomial():    #p.119\n",
        "    p = Poly(expr, x)         #p.117 create Poly object\n",
        "    return solve_poly_inequality (p, rel)\n",
        "\n",
        "  elif expr.is_rational_function():   #p.119\n",
        "    numer, denom = expr.as_numer_denom()\n",
        "    p1 = Poly(numer)\n",
        "    p2 = Poly(denom)\n",
        "    return solve_rational_inequalities ([[((p1, p2), rel)]]) #p.118\n",
        "\n",
        "  else:\n",
        "    return solve_univariate_inequality (inequal_obj, x , relational = False)\n",
        "\n",
        "\n",
        "if __name__ == '__main__':\n",
        "  inequal = input ('Please enter inequality to solve: ')\n",
        "  inequal_obj = sympify(inequal) \n",
        "  print(isolve(inequal_obj))\n"
      ],
      "metadata": {
        "id": "irBNuKh3VwaA"
      },
      "execution_count": null,
      "outputs": []
    },
    {
      "cell_type": "markdown",
      "source": [
        "Chapter 5.  Programming Challenge 2 page 143, Law of Large Numbers"
      ],
      "metadata": {
        "id": "uX0sNCHHVwiF"
      }
    },
    {
      "cell_type": "code",
      "source": [
        "#Note:Somehow this one confused me. (the challenge)\n",
        "#This is merely a work based on the Author's solution.\n",
        "#(CHALLENGE)\n",
        "# According to the law of large numbers, the average value of results over\n",
        "# multiple trials approaches the expected value as the number of trials\n",
        "# increases. Your challenge in this task is to verify this law when rolling a\n",
        "# six-sided die for the following number of trials: 100, 1000, 10000, 100000,\n",
        "# and 500000.\n",
        "\n",
        "\n",
        "import random\n",
        "\n",
        "def dice(rolls):\n",
        "    sum = 0\n",
        "    for r in range(rolls):\n",
        "        sum += random.randint(1, 6)\n",
        "    return sum / rolls\n",
        "\n",
        "\n",
        "if __name__ == '__main__':\n",
        "    trials = [100, 1000, 10000, 100000, 500000]\n",
        "    print('Expected value is: 3.5')\n",
        "    for trial in trials:\n",
        "        avg = dice(trial)\n",
        "        print('Trials: {0} Trial average {1}'.format(trial, avg))"
      ],
      "metadata": {
        "colab": {
          "base_uri": "https://localhost:8080/"
        },
        "id": "-vf5b2lOVwsD",
        "outputId": "8e76fa3d-c7b1-4f9f-8b2e-426b2e333380"
      },
      "execution_count": 3,
      "outputs": [
        {
          "output_type": "stream",
          "name": "stdout",
          "text": [
            "Expected value is: 3.5\n",
            "Trials: 100 Trial average 3.25\n",
            "Trials: 1000 Trial average 3.463\n",
            "Trials: 10000 Trial average 3.5135\n",
            "Trials: 100000 Trial average 3.50006\n",
            "Trials: 500000 Trial average 3.502126\n"
          ]
        }
      ]
    },
    {
      "cell_type": "markdown",
      "source": [
        "Chapter 7.  Programming Challenge 2 page 205, Implement the Gradient Descent"
      ],
      "metadata": {
        "id": "BtTwZCr2WCeM"
      }
    },
    {
      "cell_type": "code",
      "source": [
        "# Will need to study on Math part_all these terms and equations (gradient ascent, continuity, quadratic function,etc.) are a blur now.\n",
        "# Gradient descent method: used to find minimum value of function.\n",
        "# use gradient descent algorithm to find minimum value of single-variable function specified as input by user.\n",
        "# Ref: figure 7-5 on p.193.\n",
        "# Text: p.191\n",
        "# code: Author's 'Gradient Ascent' code from p.195\n",
        "\n",
        "\n",
        "from sympy import Derivative, Symbol, sympify\n",
        "from sympy.core.sympify import SympifyError\n",
        "\n",
        "#same code from p.195\n",
        "def gradient_descent(x0, f1x, x):\n",
        "    epsilon = 1e-6\n",
        "    step_size = 1e-4\n",
        "    x_old = x0\n",
        "    x_new = x_old - step_size * f1x.subs({x: x_old}).evalf()\n",
        "    while abs(x_old - x_new) > epsilon:\n",
        "        x_old = x_new\n",
        "        x_new = x_old - step_size * f1x.subs({x: x_old}).evalf()\n",
        "\n",
        "    return x_new\n",
        "\n",
        "#same code from p.195\n",
        "if __name__ == '__main__':\n",
        "    f = input('Enter a function in one variable: ')\n",
        "    var = input('Enter the variable to differentiate with respect to: ')\n",
        "    var0 = float(input('Enter the initial value of the variable: '))\n",
        "    try:\n",
        "        f = sympify(f)\n",
        "    except SympifyError:\n",
        "        print('This is an invalid function')\n",
        "    else:\n",
        "\n",
        "        var = Symbol(var)\n",
        "        d = Derivative(f, var).doit()\n",
        "        var_min = gradient_descent(var0, d, var)  # Google: different between gradient ascent and descent (click: stackoverflow)\n",
        "        print('{0}: {1}'.format(var.name, var_min))\n",
        "        print('Minimum value: {0}'.format(f.subs({var: var_min})))"
      ],
      "metadata": {
        "colab": {
          "base_uri": "https://localhost:8080/"
        },
        "id": "xF0I8INiWCxB",
        "outputId": "4ee835b9-b553-44d6-f9e5-fb06f344fa37"
      },
      "execution_count": 13,
      "outputs": [
        {
          "output_type": "stream",
          "name": "stdout",
          "text": [
            "Enter a function in one variable: 3*x**2+2*x\n",
            "Enter the variable to differentiate with respect to: x\n",
            "Enter the initial value of the variable: 0.1\n",
            "x: -0.331668643986980\n",
            "Minimum value: -0.333325019761474\n"
          ]
        }
      ]
    }
  ]
}